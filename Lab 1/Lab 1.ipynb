{
 "cells": [
  {
   "cell_type": "code",
   "execution_count": 1,
   "metadata": {},
   "outputs": [],
   "source": [
    "# Importing the Libraries\n",
    "import numpy as np\n",
    "import pandas as pd\n",
    "import matplotlib.pyplot as plt\n",
    "import warnings\n",
    "\n",
    "warnings.filterwarnings(\"ignore\")"
   ]
  },
  {
   "cell_type": "code",
   "execution_count": 2,
   "metadata": {},
   "outputs": [
    {
     "name": "stdout",
     "output_type": "stream",
     "text": [
      "     0         1         2         3         4         5         6         7   \\\n",
      "0  -1.0  0.502055  0.542163  0.722383  1.428885  2.136516  2.281149  1.936274   \n",
      "1   1.0  0.147647  0.804668  0.367771  0.243894  0.026614 -0.274402  0.096731   \n",
      "2  -1.0  0.316646  0.243199  0.370471  1.063738  1.678187  1.759558  1.697717   \n",
      "3  -1.0  1.168874  2.075901  1.760141  1.606446  1.949046  1.302842  0.459332   \n",
      "4   1.0  0.648658  0.752026  2.636231  3.455716  2.118157  0.520620 -0.188627   \n",
      "..  ...       ...       ...       ...       ...       ...       ...       ...   \n",
      "95  1.0  0.581277  0.876188  1.042767  1.796120  2.541399  2.246653  1.500387   \n",
      "96 -1.0  2.689017  2.708703  2.008381  2.235800  1.516982  0.029916 -0.561346   \n",
      "97 -1.0  0.197677  0.455417  0.973110  1.935956  2.259463  1.741341  1.158296   \n",
      "98  1.0  0.179500  1.038409  1.946421  2.705141  1.670706 -0.101167 -1.578876   \n",
      "99  1.0  0.073124  0.776054  2.181336  3.440325  2.168475  0.497315 -0.924284   \n",
      "\n",
      "          8         9   ...        87        88        89        90        91  \\\n",
      "0   1.468890  1.008845  ...  0.931043  0.610298  0.638894  0.684679  0.583238   \n",
      "1  -0.747731 -1.609777  ... -0.533503 -0.400228  0.176084  1.111768  2.438428   \n",
      "2   1.612159  1.168188  ...  0.764229  0.610621  0.552900  0.566786  0.604002   \n",
      "3   0.516412  0.852180  ...  0.419006  0.723888  1.323947  2.136488  1.746597   \n",
      "4   0.780818  0.933775  ... -0.097869 -0.136787 -0.340237 -0.089441 -0.080297   \n",
      "..       ...       ...  ...       ...       ...       ...       ...       ...   \n",
      "95  1.031521  0.382672  ...  1.002770  0.907869  0.916457  0.923975  0.767357   \n",
      "96 -0.793702 -0.979371  ... -0.136610 -0.072176 -0.082738 -0.138468 -0.120396   \n",
      "97  0.418241 -0.071605  ...  0.482452  0.325569  0.247991  0.184127  0.050358   \n",
      "98 -0.750906  0.175310  ...  0.324323  0.330489  0.111953  0.448948  0.567132   \n",
      "99 -1.499227 -0.679328  ... -0.058935 -0.130638 -0.347235 -0.177933 -0.060332   \n",
      "\n",
      "          92        93        94        95        96  \n",
      "0   0.640522  0.708585  0.705011  0.713815  0.433765  \n",
      "1   2.734889  1.736054  0.036857 -1.265074 -0.208024  \n",
      "2   0.777068  0.812345  0.748848  0.818042  0.539347  \n",
      "3   1.470220  1.893512  1.256949  0.800407  0.731540  \n",
      "4  -0.192584 -0.304704 -0.454556  0.314590  0.582190  \n",
      "..       ...       ...       ...       ...       ...  \n",
      "95  0.656223  0.762357  0.501373 -0.333336 -0.524546  \n",
      "96 -0.089411 -0.243141 -0.119710  0.124042  0.273463  \n",
      "97  0.241988  0.331451 -0.120006  0.042423  0.343293  \n",
      "98  0.136757  0.444768  0.151050  0.193378  0.451709  \n",
      "99 -0.347634 -0.447443 -0.066689 -0.178448 -0.256052  \n",
      "\n",
      "[100 rows x 97 columns]\n"
     ]
    }
   ],
   "source": [
    "DataFrame = pd.read_csv('ECG200_TRAIN.csv', delimiter='  ', header=None)\n",
    "print(DataFrame)"
   ]
  },
  {
   "cell_type": "code",
   "execution_count": 3,
   "metadata": {},
   "outputs": [
    {
     "name": "stdout",
     "output_type": "stream",
     "text": [
      "The total number of NaN values in the Data Frame: 0\n"
     ]
    }
   ],
   "source": [
    "print('The total number of NaN values in the Data Frame:', DataFrame.isnull().sum().sum())"
   ]
  },
  {
   "cell_type": "code",
   "execution_count": 4,
   "metadata": {},
   "outputs": [
    {
     "data": {
      "image/png": "[encoded data removed]",
      "text/plain": [
       "<Figure size 432x288 with 1 Axes>"
      ]
     },
     "metadata": {
      "needs_background": "light"
     },
     "output_type": "display_data"
    }
   ],
   "source": [
    "DataFrame[0].plot(kind=\"hist\", bins=4, ec=\"black\")\n",
    "plt.show()"
   ]
  },
  {
   "cell_type": "code",
   "execution_count": 5,
   "metadata": {},
   "outputs": [
    {
     "name": "stdout",
     "output_type": "stream",
     "text": [
      "     0         1         2         3         4         5         6         7   \\\n",
      "0  -1.0  0.502055  0.542163  0.722383  1.428885  2.136516  2.281149  1.936274   \n",
      "1  -1.0  2.041298  2.021590  1.925895  2.334360  1.173874 -0.452548 -0.728089   \n",
      "2  -1.0  0.314220  0.781063  1.204968  1.534697  1.877331  2.158214  2.102972   \n",
      "3  -1.0  0.651739  1.237034  2.109448  1.432443  0.786701 -0.459460 -0.363299   \n",
      "4  -1.0  1.468417  3.253946  3.599510  2.393377  0.417377  1.071454  1.685863   \n",
      "..  ...       ...       ...       ...       ...       ...       ...       ...   \n",
      "95  1.0  0.319309  2.091695  3.443776  2.233017  2.302414  0.621608 -0.886664   \n",
      "96  1.0  0.630396  2.191977  3.520900  2.730039  2.138940  0.560727 -0.678532   \n",
      "97  1.0  0.535811  0.600766  2.115888  3.348072  2.045148  1.441588  0.104841   \n",
      "98  1.0  0.780978  1.340804  1.963279  3.092512  3.720899  3.026452  1.980515   \n",
      "99  1.0  0.073124  0.776054  2.181336  3.440325  2.168475  0.497315 -0.924284   \n",
      "\n",
      "          8         9   ...        87        88        89        90        91  \\\n",
      "0   1.468890  1.008845  ...  0.931043  0.610298  0.638894  0.684679  0.583238   \n",
      "1  -0.972869 -1.133044  ...  0.115283  0.066654  0.103960  0.238770  0.306208   \n",
      "2   1.677909  1.168675  ...  0.719623  0.692818  0.538907  0.612083  0.736077   \n",
      "3  -0.557523 -1.195935  ...  0.351071  0.339648  0.277546  0.669928  0.391671   \n",
      "4   1.572941  1.708876  ... -0.116034 -0.171460 -0.153983 -0.258515 -0.087436   \n",
      "..       ...       ...  ...       ...       ...       ...       ...       ...   \n",
      "95  0.248081  0.498802  ... -0.160642 -0.207915 -0.165777 -0.186022 -0.184003   \n",
      "96  0.737455  1.128454  ... -0.272648 -0.484068 -0.516631 -0.574304 -0.141156   \n",
      "97 -0.093578  1.080625  ... -0.162159 -0.047013 -0.439402 -0.334676 -0.188285   \n",
      "98  1.008738 -0.088959  ...  0.144639  0.187890  0.151923 -0.076789 -0.096129   \n",
      "99 -1.499227 -0.679328  ... -0.058935 -0.130638 -0.347235 -0.177933 -0.060332   \n",
      "\n",
      "          92        93        94        95        96  \n",
      "0   0.640522  0.708585  0.705011  0.713815  0.433765  \n",
      "1   0.337572  0.755266  0.867938  0.838234  1.358683  \n",
      "2   0.571199  0.446568  0.671549  0.787982  0.401365  \n",
      "3   0.506676 -0.102576  0.292573  0.453942  0.389685  \n",
      "4  -0.068081 -0.103640 -0.102454 -0.021531  0.144794  \n",
      "..       ...       ...       ...       ...       ...  \n",
      "95 -0.026053 -0.277515 -0.128456 -0.042732 -0.177172  \n",
      "96 -0.447960 -0.738019 -0.398605 -0.488689 -0.232315  \n",
      "97 -0.255894 -0.152200 -0.244333 -0.348112 -0.282857  \n",
      "98  0.201845  0.217268 -0.176316 -0.235263  0.015158  \n",
      "99 -0.347634 -0.447443 -0.066689 -0.178448 -0.256052  \n",
      "\n",
      "[100 rows x 97 columns]\n"
     ]
    }
   ],
   "source": [
    "DataFrame = DataFrame.sort_values([0]).reset_index(drop=True)\n",
    "print(DataFrame)"
   ]
  },
  {
   "cell_type": "code",
   "execution_count": 6,
   "metadata": {},
   "outputs": [],
   "source": [
    "# Applying K-Fold Cross-Validation by Using NumPy and Slicing"
   ]
  },
  {
   "cell_type": "code",
   "execution_count": 7,
   "metadata": {},
   "outputs": [],
   "source": [
    "from sklearn.model_selection import KFold\n",
    "from sklearn.model_selection import cross_val_score\n",
    "from sklearn.linear_model import LogisticRegression\n",
    "from numpy import mean"
   ]
  },
  {
   "cell_type": "code",
   "execution_count": 8,
   "metadata": {},
   "outputs": [
    {
     "name": "stdout",
     "output_type": "stream",
     "text": [
      "The Average Accuracy is: 85.0%\n"
     ]
    }
   ],
   "source": [
    "# Applying K-Fold Cross-Validation by Using Scikit-Learn\n",
    "X = DataFrame.drop(0, axis=1)\n",
    "Y = DataFrame[0]\n",
    "DataSet = KFold(n_splits=3, shuffle=True, random_state=7)\n",
    "Accuracies = cross_val_score(LogisticRegression(), X, Y, cv=DataSet)\n",
    "print('The Average Accuracy is: {:.1f}%'.format(mean(Accuracies) * 100))"
   ]
  },
  {
   "cell_type": "code",
   "execution_count": 9,
   "metadata": {},
   "outputs": [],
   "source": [
    "# Report: The accuracy, if we apply K-Fold Cross-Validation by using Scikit-Learn is 85.0%, \n",
    "# in comparison to 77.9% obtained by applying K-Fold Cross-Validation by using NumPy and \n",
    "# slicing. Hence, the use of Scikit-Learn is preferred to achieve a better result."
   ]
  }
 ],
 "metadata": {
  "kernelspec": {
   "display_name": "Python 3.10.6 64-bit",
   "language": "python",
   "name": "python3"
  },
  "language_info": {
   "codemirror_mode": {
    "name": "ipython",
    "version": 3
   },
   "file_extension": ".py",
   "mimetype": "text/x-python",
   "name": "python",
   "nbconvert_exporter": "python",
   "pygments_lexer": "ipython3",
   "version": "3.10.6"
  },
  "orig_nbformat": 4,
  "vscode": {
   "interpreter": {
    "hash": "aee8b7b246df8f9039afb4144a1f6fd8d2ca17a180786b69acc140d282b71a49"
   }
  }
 },
 "nbformat": 4,
 "nbformat_minor": 2
}
