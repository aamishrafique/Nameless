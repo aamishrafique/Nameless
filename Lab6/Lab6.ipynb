{
 "cells": [
  {
   "cell_type": "code",
   "execution_count": 1,
   "metadata": {},
   "outputs": [],
   "source": [
    "# Importing the Libraries\n",
    "import numpy as np\n",
    "import pandas as pd"
   ]
  },
  {
   "cell_type": "markdown",
   "metadata": {},
   "source": [
    "### Task 1"
   ]
  },
  {
   "cell_type": "code",
   "execution_count": 2,
   "metadata": {},
   "outputs": [],
   "source": [
    "def NaiveBayesOnPlayTennis(DataFrame, Input):\n",
    "\n",
    "    Yes = No = 0\n",
    "    ListOfYes = [0] * (len(DataFrame.columns) - 1)\n",
    "    ListOfNo = [0] * (len(DataFrame.columns) - 1)\n",
    "\n",
    "    for x in range(len(DataFrame)):\n",
    "        if DataFrame[DataFrame.columns[-1]][x] == \"Yes\":\n",
    "            Yes += 1\n",
    "        if DataFrame[DataFrame.columns[-1]][x] == \"No\":\n",
    "            No += 1\n",
    "\n",
    "        for y in range(len(DataFrame.columns) - 1):\n",
    "            if (\n",
    "                DataFrame[DataFrame.columns[y]][x] == Input[y]\n",
    "                and DataFrame[DataFrame.columns[-1]][x] == \"Yes\"\n",
    "            ):\n",
    "                ListOfYes[y] += 1\n",
    "            elif (\n",
    "                DataFrame[DataFrame.columns[y]][x] == Input[y]\n",
    "                and DataFrame[DataFrame.columns[-1]][x] == \"No\"\n",
    "            ):\n",
    "                ListOfNo[y] += 1\n",
    "\n",
    "    ProbabilityOfYes = Yes / (Yes + No) * (np.prod(ListOfYes) / Yes ** len(Input))\n",
    "    ProbabilityOfNo = No / (Yes + No) * (np.prod(ListOfNo) / No ** len(Input))\n",
    "\n",
    "    return ProbabilityOfYes, ProbabilityOfNo"
   ]
  },
  {
   "cell_type": "code",
   "execution_count": 3,
   "metadata": {},
   "outputs": [
    {
     "name": "stdout",
     "output_type": "stream",
     "text": [
      "Probability(Input/Yes): 0.007054673721340388\n",
      "Probability(Input/No): 0.027428571428571427\n",
      "Play Tennis: No\n"
     ]
    }
   ],
   "source": [
    "Input = [\"Sunny\", \"Hot\", \"High\", \"Weak\"]\n",
    "DataFrame = pd.read_csv(\"PlayTennis.csv\").drop(columns=\"day\")\n",
    "ProbabilityOfYes, ProbabilityOfNo = NaiveBayesOnPlayTennis(DataFrame, Input)\n",
    "print(\n",
    "    f\"Probability(Input/Yes): {ProbabilityOfYes}\\nProbability(Input/No): {ProbabilityOfNo}\"\n",
    ")\n",
    "if ProbabilityOfYes > ProbabilityOfNo:\n",
    "    print(\"Play Tennis: Yes\")\n",
    "else:\n",
    "    print(\"Play Tennis: No\")"
   ]
  },
  {
   "cell_type": "markdown",
   "metadata": {},
   "source": [
    "### Task 2 - Using Naive Bayes Classification"
   ]
  },
  {
   "cell_type": "code",
   "execution_count": 4,
   "metadata": {},
   "outputs": [],
   "source": [
    "PositiveSentence = \"i love mangoes mangoes are a lot tastier than other fruits i like mangoes because they are good apples are good too but i prefer mangoes people say mango is the king of fruit so that is why mangoes are good mangoes are good because they are juicy\"\n",
    "NegativeSentence = \"eating too many mangoes can have a negative impact on your health mangoes are good but not too good i like apples more than mangoes i don’t like mangoes because they are expensive mangoes are not good i don’t like mangoes\"\n",
    "TestSentence = \"mangoes are good\""
   ]
  },
  {
   "cell_type": "code",
   "execution_count": 5,
   "metadata": {},
   "outputs": [
    {
     "name": "stdout",
     "output_type": "stream",
     "text": [
      "Probability(Input/Positive): 0.0007102272727272726\n",
      "Probability(Input/Negative): 0.00035613897861978995\n",
      "The Test Sentence is Positive\n"
     ]
    }
   ],
   "source": [
    "ProbabilityOfPositive = (\n",
    "    (6 / 11)\n",
    "    * (\n",
    "        PositiveSentence.count(\"mangoes\")\n",
    "        * PositiveSentence.count(\"are\")\n",
    "        * PositiveSentence.count(\"good\")\n",
    "    )\n",
    "    / (len(PositiveSentence.split()) ** 3)\n",
    ")\n",
    "\n",
    "ProbabilityOfNegative = (\n",
    "    (5 / 11)\n",
    "    * (\n",
    "        NegativeSentence.count(\"mangoes\")\n",
    "        * NegativeSentence.count(\"are\")\n",
    "        * NegativeSentence.count(\"good\")\n",
    "    )\n",
    "    / (len(NegativeSentence.split()) ** 3)\n",
    ")\n",
    "\n",
    "print(\n",
    "    f\"Probability(Input/Positive): {ProbabilityOfPositive}\\nProbability(Input/Negative): {ProbabilityOfNegative}\"\n",
    ")\n",
    "if ProbabilityOfPositive > ProbabilityOfNegative:\n",
    "    print(\"The Test Sentence is Positive\")\n",
    "else:\n",
    "    print(\"The Test Sentence is Negative\")"
   ]
  },
  {
   "cell_type": "markdown",
   "metadata": {},
   "source": [
    "### Task 2 - Using Bayesian Classification"
   ]
  },
  {
   "cell_type": "code",
   "execution_count": 6,
   "metadata": {},
   "outputs": [
    {
     "name": "stdout",
     "output_type": "stream",
     "text": [
      "Probability(Input/Positive): 0.00017755681818181816\n",
      "Probability(Input/Negative): 7.914199524884222e-05\n",
      "The Test Sentence is Positive\n"
     ]
    }
   ],
   "source": [
    "ProbabilityOfPositive = (6 / 11) * (\n",
    "    (\n",
    "        PositiveSentence.count(\"mangoes\")\n",
    "        * PositiveSentence.count(\"mangoes are\")\n",
    "        * PositiveSentence.count(\"mangoes are good\")\n",
    "    )\n",
    "    / (len(PositiveSentence.split()) ** 3)\n",
    ")\n",
    "\n",
    "ProbabilityOfNegative = (5 / 11) * (\n",
    "    (\n",
    "        NegativeSentence.count(\"mangoes\")\n",
    "        * NegativeSentence.count(\"mangoes are\")\n",
    "        * NegativeSentence.count(\"mangoes are good\")\n",
    "    )\n",
    "    / (len(NegativeSentence.split()) ** 3)\n",
    ")\n",
    "\n",
    "print(\n",
    "    f\"Probability(Input/Positive): {ProbabilityOfPositive}\\nProbability(Input/Negative): {ProbabilityOfNegative}\"\n",
    ")\n",
    "if ProbabilityOfPositive > ProbabilityOfNegative:\n",
    "    print(\"The Test Sentence is Positive\")\n",
    "else:\n",
    "    print(\"The Test Sentence is Negative\")"
   ]
  }
 ],
 "metadata": {
  "kernelspec": {
   "display_name": "Python 3.10.6 64-bit",
   "language": "python",
   "name": "python3"
  },
  "language_info": {
   "codemirror_mode": {
    "name": "ipython",
    "version": 3
   },
   "file_extension": ".py",
   "mimetype": "text/x-python",
   "name": "python",
   "nbconvert_exporter": "python",
   "pygments_lexer": "ipython3",
   "version": "3.10.6"
  },
  "orig_nbformat": 4,
  "vscode": {
   "interpreter": {
    "hash": "aee8b7b246df8f9039afb4144a1f6fd8d2ca17a180786b69acc140d282b71a49"
   }
  }
 },
 "nbformat": 4,
 "nbformat_minor": 2
}
