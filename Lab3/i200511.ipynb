{
 "cells": [
  {
   "cell_type": "code",
   "execution_count": 29,
   "metadata": {},
   "outputs": [],
   "source": [
    "# Importing the Libraries\n",
    "import numpy as np\n",
    "import pandas as pd\n",
    "import matplotlib.pyplot as plt\n",
    "from sklearn import datasets\n",
    "import warnings\n",
    "\n",
    "warnings.filterwarnings(\"ignore\")"
   ]
  },
  {
   "cell_type": "markdown",
   "metadata": {},
   "source": [
    "### Part 1"
   ]
  },
  {
   "cell_type": "code",
   "execution_count": 30,
   "metadata": {},
   "outputs": [
    {
     "name": "stdout",
     "output_type": "stream",
     "text": [
      "The Original Vector is: (5, 7)\n",
      "The Orthogonal Vector is: (7, -5)\n",
      "The Dot Product of the two Vectors is: 0\n"
     ]
    }
   ],
   "source": [
    "Vector = [5, 7]  # Random Vector\n",
    "RotationalVector = [[0, -1], [1, 0]]  # Rotational Vector for Rotating 90°\n",
    "OrthogonalVector = np.dot(Vector, RotationalVector)  # Orthogonal Vector\n",
    "print(f\"The Original Vector is: {tuple(Vector)}\")\n",
    "print(f\"The Orthogonal Vector is: {tuple(OrthogonalVector)}\")\n",
    "print(\n",
    "    f\"The Dot Product of the two Vectors is: {np.dot(Vector, OrthogonalVector)}\"\n",
    ")  # Dot Product of Random Vector and Orthogonal Vector"
   ]
  },
  {
   "cell_type": "code",
   "execution_count": 31,
   "metadata": {},
   "outputs": [
    {
     "name": "stdout",
     "output_type": "stream",
     "text": [
      "The Projection of A on B is: (1.3846153846153846, 2.076923076923077)\n"
     ]
    }
   ],
   "source": [
    "A = np.array([6, 9])  # Random Vector 1\n",
    "B = np.array([-3, 5])  # Random Vector 2\n",
    "C = np.dot((np.dot(A.T, B) / np.dot(A.T, A)), A)  # Projection of Vector A on Vector B\n",
    "print(f\"The Projection of A on B is: {tuple(C)}\")"
   ]
  },
  {
   "cell_type": "code",
   "execution_count": 32,
   "metadata": {},
   "outputs": [
    {
     "data": {
      "image/png": "[encoded data removed]",
      "text/plain": [
       "<Figure size 432x288 with 1 Axes>"
      ]
     },
     "metadata": {
      "needs_background": "light"
     },
     "output_type": "display_data"
    }
   ],
   "source": [
    "V = np.array([A, B, C])\n",
    "Origin = np.array([[0, 0, 0], [0, 0, 0]])\n",
    "plt.quiver(*Origin, V[:, 0], V[:, 1], color=[\"r\", \"b\", \"g\"], scale=30)\n",
    "plt.axis([-5, 5, -5, 10])\n",
    "plt.grid()\n",
    "plt.show()"
   ]
  },
  {
   "cell_type": "code",
   "execution_count": 33,
   "metadata": {},
   "outputs": [
    {
     "name": "stdout",
     "output_type": "stream",
     "text": [
      "The Orthogonal Vector of A is: (-9, 6)\n"
     ]
    }
   ],
   "source": [
    "RotationalVector = [[0, 1], [-1, 0]]  # Rotational Vector for Rotating 270°\n",
    "OrthogonalVectorOfA = np.dot(A, RotationalVector)  # Orthogonal Vector of A\n",
    "print(f\"The Orthogonal Vector of A is: {tuple(OrthogonalVectorOfA)}\")"
   ]
  },
  {
   "cell_type": "code",
   "execution_count": 34,
   "metadata": {},
   "outputs": [
    {
     "name": "stdout",
     "output_type": "stream",
     "text": [
      "The Original Vector is: (-2.9999999999999996, 5.0)\n"
     ]
    }
   ],
   "source": [
    "D = np.dot(\n",
    "    (\n",
    "        np.dot(OrthogonalVectorOfA.T, B)\n",
    "        / np.dot(OrthogonalVectorOfA.T, OrthogonalVectorOfA)\n",
    "    ),\n",
    "    OrthogonalVectorOfA,\n",
    ")  # Projection of Vector B on Orthogonal Vector of A\n",
    "\n",
    "print(f\"The Original Vector is: {tuple(D + C)}\")"
   ]
  },
  {
   "cell_type": "code",
   "execution_count": 35,
   "metadata": {},
   "outputs": [
    {
     "data": {
      "image/png": "[encoded data removed]",
      "text/plain": [
       "<Figure size 432x288 with 1 Axes>"
      ]
     },
     "metadata": {
      "needs_background": "light"
     },
     "output_type": "display_data"
    }
   ],
   "source": [
    "V = np.array([B, C, D])\n",
    "Origin = np.array([[0, 0, 0], [0, 0, 0]])\n",
    "plt.quiver(*Origin, V[:, 0], V[:, 1], color=[\"r\", \"b\", \"g\"], scale=30)\n",
    "plt.axis([-5, 5, -5, 10])\n",
    "plt.grid()\n",
    "plt.show()"
   ]
  },
  {
   "cell_type": "code",
   "execution_count": 36,
   "metadata": {},
   "outputs": [
    {
     "name": "stdout",
     "output_type": "stream",
     "text": [
      "The Eigenvalues are: [ 9.83727522 -0.25061646  0.05726033 -0.0439191 ]\n",
      "The Eigenvectors are:\n",
      "[[-0.52955642  0.45570445 -0.10972786  0.05072119]\n",
      " [-0.49369692 -0.82342212  0.02810628 -0.02712648]\n",
      " [-0.48800707  0.32839825  0.18552805 -0.25638252]\n",
      " [-0.48752687 -0.08039939  0.97608871  0.96486243]]\n"
     ]
    }
   ],
   "source": [
    "Iris = datasets.load_iris()\n",
    "Eigenvalues, Eigenvectors = np.linalg.eig(Iris.data[0:4, :])\n",
    "print(f\"The Eigenvalues are: {Eigenvalues}\")\n",
    "print(f\"The Eigenvectors are:\\n{Eigenvectors}\")"
   ]
  },
  {
   "cell_type": "markdown",
   "metadata": {},
   "source": [
    "### Part 2"
   ]
  },
  {
   "cell_type": "code",
   "execution_count": 37,
   "metadata": {},
   "outputs": [
    {
     "data": {
      "text/plain": [
       "array([-1.12502600e-15, -7.60872846e-16, -2.55203266e-15, -4.48530102e-16])"
      ]
     },
     "execution_count": 37,
     "metadata": {},
     "output_type": "execute_result"
    }
   ],
   "source": [
    "Iris = datasets.load_iris()\n",
    "Mean = Iris.data.mean(axis=0).reshape(-1, 1)\n",
    "Z = Iris.data - np.dot(1, Mean.T)  # Zero-Centered Data\n",
    "Z.mean(axis=0)"
   ]
  },
  {
   "cell_type": "code",
   "execution_count": 38,
   "metadata": {},
   "outputs": [
    {
     "data": {
      "text/plain": [
       "array([-6.32827124e-17, -2.74225087e-16,  2.39808173e-16, -1.39888101e-16,\n",
       "       -2.66453526e-16, -1.94289029e-16, -1.99840144e-17,  7.99360578e-17,\n",
       "        1.11022302e-17, -3.99680289e-17, -1.88737914e-17,  3.44169138e-17,\n",
       "        1.27120536e-16,  5.10702591e-17,  2.60902411e-16,  7.77156117e-17,\n",
       "        5.10702591e-17, -1.33226763e-17,  1.42108547e-16,  1.82076576e-16,\n",
       "        1.77635684e-17, -1.79856130e-16,  1.68753900e-16, -2.08721929e-16,\n",
       "        1.11022302e-16,  1.31006317e-16, -9.32587341e-17, -3.01980663e-16,\n",
       "        1.33226763e-17, -2.44249065e-16, -2.22044605e-17,  1.39888101e-16,\n",
       "       -1.26565425e-16,  3.55271368e-17, -2.13162821e-16,  9.21485110e-17,\n",
       "        6.55031585e-17, -3.77475828e-17,  1.11577414e-16, -3.60822483e-17,\n",
       "        3.21964677e-17, -2.77555756e-17,  1.77635684e-17,  5.55111512e-18,\n",
       "        1.77635684e-17,  8.88178420e-18,  2.77555756e-17,  6.66133815e-18,\n",
       "        1.33226763e-17, -1.06581410e-16, -1.77635684e-17, -5.55111512e-18,\n",
       "        9.21485110e-17,  1.22124533e-17,  6.93889390e-17, -7.21644966e-17,\n",
       "        6.32827124e-17,  1.49880108e-17, -1.22124533e-17, -1.37667655e-16,\n",
       "       -3.88578059e-17, -8.88178420e-18, -9.99200722e-18, -2.55351296e-17,\n",
       "        1.55431223e-17, -5.21804822e-17,  1.55431223e-17, -1.88737914e-17,\n",
       "        3.02535774e-17, -4.16333634e-17, -3.10862447e-17, -1.31561428e-16,\n",
       "       -2.49800181e-17,  5.99520433e-17,  6.88338275e-17,  3.21964677e-17,\n",
       "        2.22044605e-18,  1.99840144e-16, -5.88418203e-17, -4.16333634e-17,\n",
       "        3.88578059e-17,  5.44009282e-17,  2.63677968e-17, -1.22124533e-17,\n",
       "       -6.66133815e-18,  1.94289029e-17,  3.05311332e-17, -6.27276009e-17,\n",
       "       -6.66133815e-18, -2.27595720e-17,  7.77156117e-18, -9.99200722e-18,\n",
       "       -5.10702591e-17,  8.88178420e-18, -4.99600361e-17, -4.21884749e-17])"
      ]
     },
     "execution_count": 38,
     "metadata": {},
     "output_type": "execute_result"
    }
   ],
   "source": [
    "DataFrame = pd.read_csv(\"ECG200_TRAIN.csv\", delimiter=\"  \", header=None)\n",
    "Mean = np.array(DataFrame.iloc[:, 1:]).mean(axis=0)\n",
    "Z = np.array(DataFrame.iloc[:, 1:] - np.dot(1, Mean.T))  # Zero-Centered Data\n",
    "Z.mean(axis=0)"
   ]
  }
 ],
 "metadata": {
  "kernelspec": {
   "display_name": "Python 3.10.6 64-bit",
   "language": "python",
   "name": "python3"
  },
  "language_info": {
   "codemirror_mode": {
    "name": "ipython",
    "version": 3
   },
   "file_extension": ".py",
   "mimetype": "text/x-python",
   "name": "python",
   "nbconvert_exporter": "python",
   "pygments_lexer": "ipython3",
   "version": "3.10.6"
  },
  "orig_nbformat": 4,
  "vscode": {
   "interpreter": {
    "hash": "aee8b7b246df8f9039afb4144a1f6fd8d2ca17a180786b69acc140d282b71a49"
   }
  }
 },
 "nbformat": 4,
 "nbformat_minor": 2
}
